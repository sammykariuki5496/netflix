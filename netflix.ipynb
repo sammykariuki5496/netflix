{
 "cells": [
  {
   "cell_type": "code",
   "execution_count": 1,
   "id": "71289f34-7450-4573-a103-4912d01908c6",
   "metadata": {
    "tags": []
   },
   "outputs": [],
   "source": [
    "import pandas as pd\n",
    "import matplotlib.pyplot as plt\n",
    "import numpy as np\n",
    "import os\n",
    "import zipfile\n",
    "import tensorflow\n",
    "from tensorflow import keras\n"
   ]
  },
  {
   "cell_type": "markdown",
   "id": "9f75feed-ee41-4885-aa94-1932bd5e6b51",
   "metadata": {
    "tags": []
   },
   "source": [
    "#### loading the dataset"
   ]
  },
  {
   "cell_type": "code",
   "execution_count": 2,
   "id": "2089f156-5450-4fbe-b34f-e4d45d337fc0",
   "metadata": {
    "tags": []
   },
   "outputs": [],
   "source": [
    "url='C:/Users/user/Desktop/data_science_project/first_project/archive (1)/netflix_titles.csv'"
   ]
  },
  {
   "cell_type": "code",
   "execution_count": 3,
   "id": "702584f3-b932-4e26-81ef-b00976d931a6",
   "metadata": {
    "tags": []
   },
   "outputs": [],
   "source": [
    "netflix_dataset=pd.read_csv(url)\n"
   ]
  },
  {
   "cell_type": "markdown",
   "id": "06060485-b02b-4bf2-bbf8-04c06395d7a0",
   "metadata": {
    "tags": []
   },
   "source": [
    "### cleaning the dataset"
   ]
  },
  {
   "cell_type": "code",
   "execution_count": null,
   "id": "521a3375-6c23-4e90-ab85-9430ab537581",
   "metadata": {
    "tags": []
   },
   "outputs": [],
   "source": []
  },
  {
   "cell_type": "code",
   "execution_count": 4,
   "id": "e730dfea-4bcd-4d3a-acd4-eb8e7f33d153",
   "metadata": {},
   "outputs": [
    {
     "data": {
      "text/plain": [
       "show_id            0\n",
       "type               0\n",
       "title              0\n",
       "director        2634\n",
       "cast             825\n",
       "country          831\n",
       "date_added        10\n",
       "release_year       0\n",
       "rating             4\n",
       "duration           3\n",
       "listed_in          0\n",
       "description        0\n",
       "dtype: int64"
      ]
     },
     "execution_count": 4,
     "metadata": {},
     "output_type": "execute_result"
    }
   ],
   "source": [
    "netflix_dataset.isna().sum()"
   ]
  },
  {
   "cell_type": "code",
   "execution_count": 5,
   "id": "b4149e2e-035c-42d5-804d-608ce191c5e1",
   "metadata": {},
   "outputs": [],
   "source": [
    "netflix_dataset=netflix_dataset.dropna()"
   ]
  },
  {
   "cell_type": "code",
   "execution_count": null,
   "id": "7219c1ba-77ad-4d1e-932d-573798c4c26e",
   "metadata": {},
   "outputs": [],
   "source": []
  },
  {
   "cell_type": "code",
   "execution_count": 6,
   "id": "bc085500-d99c-41c5-9af7-ec1197df6eb2",
   "metadata": {},
   "outputs": [],
   "source": [
    "netflix_movies=netflix_dataset[netflix_dataset['type']=='Movie']\n"
   ]
  },
  {
   "cell_type": "code",
   "execution_count": null,
   "id": "c5c1347d-3ab8-4443-8b29-870adff81d7b",
   "metadata": {},
   "outputs": [],
   "source": []
  },
  {
   "cell_type": "code",
   "execution_count": 7,
   "id": "9eb7c242-f84f-4d5a-80fb-e98df153cb48",
   "metadata": {
    "tags": []
   },
   "outputs": [],
   "source": [
    "netflix_tv_shows=netflix_dataset.drop(netflix_movies.index)\n"
   ]
  },
  {
   "cell_type": "code",
   "execution_count": 8,
   "id": "3a50826c-97d2-455a-946e-3d14a33b3925",
   "metadata": {
    "tags": []
   },
   "outputs": [
    {
     "data": {
      "text/plain": [
       "(147, 12)"
      ]
     },
     "execution_count": 8,
     "metadata": {},
     "output_type": "execute_result"
    }
   ],
   "source": [
    "import seaborn as sns\n",
    "netflix_tv_shows.shape"
   ]
  },
  {
   "cell_type": "code",
   "execution_count": 9,
   "id": "f63ca3e0-b34f-47ff-a546-9c4a6ddfa6ec",
   "metadata": {
    "tags": []
   },
   "outputs": [],
   "source": [
    "countries=netflix_dataset['country'].unique()"
   ]
  },
  {
   "cell_type": "code",
   "execution_count": 10,
   "id": "904a214f-2555-4b6b-9f84-59484cd147cc",
   "metadata": {
    "tags": []
   },
   "outputs": [
    {
     "data": {
      "text/plain": [
       "array([1993, 2021, 1998, 2010, 2013, 2017, 1975, 1978, 1983, 1987, 2012,\n",
       "       2001, 2002, 2003, 2004, 2011, 2008, 2009, 2007, 2005, 2006, 2018,\n",
       "       2020, 2019, 1994, 2015, 1982, 1989, 2014, 1990, 1991, 1999, 2016,\n",
       "       1986, 1996, 1984, 1997, 1980, 1961, 1995, 1985, 1992, 2000, 1976,\n",
       "       1959, 1988, 1972, 1981, 1964, 1954, 1979, 1958, 1956, 1963, 1970,\n",
       "       1973, 1960, 1974, 1966, 1971, 1962, 1969, 1977, 1967, 1968, 1965,\n",
       "       1945, 1946, 1955, 1942, 1947, 1944], dtype=int64)"
      ]
     },
     "execution_count": 10,
     "metadata": {},
     "output_type": "execute_result"
    }
   ],
   "source": [
    "netflix_movies[\"release_year\"].unique()"
   ]
  },
  {
   "cell_type": "code",
   "execution_count": null,
   "id": "dcd0bf35-27b0-469f-8dbb-eff598d6c3cc",
   "metadata": {},
   "outputs": [],
   "source": []
  },
  {
   "cell_type": "markdown",
   "id": "de7fe5f1-dd6d-472a-9f3c-85a0e3c28185",
   "metadata": {
    "tags": []
   },
   "source": [
    "#### VISUALIZE MOVIES DATA SET"
   ]
  },
  {
   "cell_type": "markdown",
   "id": "3e452e99-3593-42a3-8eee-4fe8ebc48d9b",
   "metadata": {
    "tags": []
   },
   "source": [
    "##### task 1: which year were watched most"
   ]
  },
  {
   "cell_type": "code",
   "execution_count": null,
   "id": "b697409c-48ef-4c56-89e2-a98a4ba3b4ac",
   "metadata": {
    "tags": []
   },
   "outputs": [],
   "source": []
  },
  {
   "cell_type": "code",
   "execution_count": null,
   "id": "58f6fbc7-fce1-4cf3-b445-e09030db8dc2",
   "metadata": {},
   "outputs": [],
   "source": []
  },
  {
   "cell_type": "code",
   "execution_count": null,
   "id": "0e5884b2-c5d4-4694-ae66-fc7fc86f2575",
   "metadata": {
    "tags": []
   },
   "outputs": [],
   "source": []
  },
  {
   "cell_type": "code",
   "execution_count": null,
   "id": "fcd597ec-8c32-4522-b39b-2006bb5ab8d5",
   "metadata": {
    "tags": []
   },
   "outputs": [],
   "source": []
  },
  {
   "cell_type": "code",
   "execution_count": 11,
   "id": "e1ac2052-6f4a-46c2-87f1-0421b7a1cb9f",
   "metadata": {
    "tags": []
   },
   "outputs": [
    {
     "name": "stderr",
     "output_type": "stream",
     "text": [
      "C:\\Users\\user\\AppData\\Local\\Temp\\ipykernel_12560\\2264823945.py:1: SettingWithCopyWarning: \n",
      "A value is trying to be set on a copy of a slice from a DataFrame.\n",
      "Try using .loc[row_indexer,col_indexer] = value instead\n",
      "\n",
      "See the caveats in the documentation: https://pandas.pydata.org/pandas-docs/stable/user_guide/indexing.html#returning-a-view-versus-a-copy\n",
      "  netflix_movies['count']=1\n"
     ]
    }
   ],
   "source": [
    "netflix_movies['count']=1"
   ]
  },
  {
   "cell_type": "code",
   "execution_count": 12,
   "id": "177ffc84-adb5-426b-a382-e9a69d9460ef",
   "metadata": {
    "tags": []
   },
   "outputs": [
    {
     "data": {
      "text/html": [
       "<div>\n",
       "<style scoped>\n",
       "    .dataframe tbody tr th:only-of-type {\n",
       "        vertical-align: middle;\n",
       "    }\n",
       "\n",
       "    .dataframe tbody tr th {\n",
       "        vertical-align: top;\n",
       "    }\n",
       "\n",
       "    .dataframe thead th {\n",
       "        text-align: right;\n",
       "    }\n",
       "</style>\n",
       "<table border=\"1\" class=\"dataframe\">\n",
       "  <thead>\n",
       "    <tr style=\"text-align: right;\">\n",
       "      <th></th>\n",
       "      <th>release_year</th>\n",
       "      <th>count</th>\n",
       "    </tr>\n",
       "  </thead>\n",
       "  <tbody>\n",
       "    <tr>\n",
       "      <th>0</th>\n",
       "      <td>1942</td>\n",
       "      <td>1</td>\n",
       "    </tr>\n",
       "    <tr>\n",
       "      <th>1</th>\n",
       "      <td>1944</td>\n",
       "      <td>1</td>\n",
       "    </tr>\n",
       "    <tr>\n",
       "      <th>2</th>\n",
       "      <td>1945</td>\n",
       "      <td>1</td>\n",
       "    </tr>\n",
       "    <tr>\n",
       "      <th>3</th>\n",
       "      <td>1946</td>\n",
       "      <td>1</td>\n",
       "    </tr>\n",
       "    <tr>\n",
       "      <th>4</th>\n",
       "      <td>1947</td>\n",
       "      <td>1</td>\n",
       "    </tr>\n",
       "    <tr>\n",
       "      <th>...</th>\n",
       "      <td>...</td>\n",
       "      <td>...</td>\n",
       "    </tr>\n",
       "    <tr>\n",
       "      <th>67</th>\n",
       "      <td>2017</td>\n",
       "      <td>640</td>\n",
       "    </tr>\n",
       "    <tr>\n",
       "      <th>68</th>\n",
       "      <td>2018</td>\n",
       "      <td>632</td>\n",
       "    </tr>\n",
       "    <tr>\n",
       "      <th>69</th>\n",
       "      <td>2019</td>\n",
       "      <td>495</td>\n",
       "    </tr>\n",
       "    <tr>\n",
       "      <th>70</th>\n",
       "      <td>2020</td>\n",
       "      <td>409</td>\n",
       "    </tr>\n",
       "    <tr>\n",
       "      <th>71</th>\n",
       "      <td>2021</td>\n",
       "      <td>146</td>\n",
       "    </tr>\n",
       "  </tbody>\n",
       "</table>\n",
       "<p>72 rows × 2 columns</p>\n",
       "</div>"
      ],
      "text/plain": [
       "    release_year  count\n",
       "0           1942      1\n",
       "1           1944      1\n",
       "2           1945      1\n",
       "3           1946      1\n",
       "4           1947      1\n",
       "..           ...    ...\n",
       "67          2017    640\n",
       "68          2018    632\n",
       "69          2019    495\n",
       "70          2020    409\n",
       "71          2021    146\n",
       "\n",
       "[72 rows x 2 columns]"
      ]
     },
     "execution_count": 12,
     "metadata": {},
     "output_type": "execute_result"
    }
   ],
   "source": [
    "release_year_movies=netflix_movies.groupby('release_year')['count'].sum().reset_index()[['release_year', 'count']]\n",
    "release_year_movies"
   ]
  },
  {
   "cell_type": "code",
   "execution_count": 13,
   "id": "6e9b755a-c67f-4432-99b1-4ecb0f410366",
   "metadata": {
    "tags": []
   },
   "outputs": [
    {
     "data": {
      "image/png": "[encoded data removed]",
      "text/plain": [
       "<Figure size 640x480 with 1 Axes>"
      ]
     },
     "metadata": {},
     "output_type": "display_data"
    }
   ],
   "source": [
    "release_year_movies.plot('release_year', 'count',color='g')\n",
    "plt.xlabel('release year')\n",
    "plt.ylabel('counts')\n",
    "plt.title('MOVIES TRENDING', c='b')\n",
    "plt.grid()\n",
    "plt.show()\n"
   ]
  },
  {
   "cell_type": "code",
   "execution_count": null,
   "id": "100a45e0-ebd9-4150-8ece-5cb9fcf01eff",
   "metadata": {
    "tags": []
   },
   "outputs": [],
   "source": []
  },
  {
   "cell_type": "markdown",
   "id": "f8fc1e9b-571a-491d-a9aa-44b729e5b267",
   "metadata": {
    "tags": []
   },
   "source": [
    "##### task2: the longest movie name"
   ]
  },
  {
   "cell_type": "markdown",
   "id": "39691640-dcb2-44aa-ba9e-9fff288e72e8",
   "metadata": {
    "tags": []
   },
   "source": [
    "\n",
    "index_of_longest = netflix_movies['title'].str.len().idxmax()\n",
    "longest_movie_name=netflix_movies['title'][index_of_longest]\n",
    "longest_movie_name"
   ]
  },
  {
   "cell_type": "code",
   "execution_count": 14,
   "id": "12d5277d-57ee-4080-ab39-ab14b60faf13",
   "metadata": {
    "tags": []
   },
   "outputs": [
    {
     "data": {
      "text/plain": [
       "'Raúl Campos, Jan Suter'"
      ]
     },
     "execution_count": 14,
     "metadata": {},
     "output_type": "execute_result"
    }
   ],
   "source": [
    "duplicates=netflix_movies.groupby('director')['count'].sum()\n",
    "duplicates.idxmax()\n",
    "\n"
   ]
  },
  {
   "cell_type": "markdown",
   "id": "29688267-877c-40dc-bbba-bb4655be0d33",
   "metadata": {},
   "source": [
    "##### task4: movies that span for long"
   ]
  },
  {
   "cell_type": "code",
   "execution_count": 15,
   "id": "bf438216-b67d-446a-a41f-ecb36371ca10",
   "metadata": {
    "tags": []
   },
   "outputs": [
    {
     "name": "stderr",
     "output_type": "stream",
     "text": [
      "C:\\Users\\user\\AppData\\Local\\Temp\\ipykernel_12560\\3429653847.py:3: SettingWithCopyWarning: \n",
      "A value is trying to be set on a copy of a slice from a DataFrame.\n",
      "Try using .loc[row_indexer,col_indexer] = value instead\n",
      "\n",
      "See the caveats in the documentation: https://pandas.pydata.org/pandas-docs/stable/user_guide/indexing.html#returning-a-view-versus-a-copy\n",
      "  netflix_movies['duration']=netflix_movies['duration'].apply(lambda x:get_min(x) )\n"
     ]
    }
   ],
   "source": [
    "def get_min(time):\n",
    "    return pd.to_numeric(time.split(' ')[0])\n",
    "netflix_movies['duration']=netflix_movies['duration'].apply(lambda x:get_min(x) )"
   ]
  },
  {
   "cell_type": "code",
   "execution_count": 16,
   "id": "e9ca8881-d6a9-40d0-9523-97cfd87fde82",
   "metadata": {
    "tags": []
   },
   "outputs": [
    {
     "data": {
      "text/plain": [
       "253"
      ]
     },
     "execution_count": 16,
     "metadata": {},
     "output_type": "execute_result"
    }
   ],
   "source": [
    "netflix_movies['duration'].max()"
   ]
  },
  {
   "cell_type": "code",
   "execution_count": 17,
   "id": "8dc1d2f4-a765-4b79-b96b-f6c384caf730",
   "metadata": {
    "tags": []
   },
   "outputs": [],
   "source": [
    "ratings=netflix_movies.groupby(['title','rating'])['count'].sum()"
   ]
  },
  {
   "cell_type": "code",
   "execution_count": null,
   "id": "7031051c-a75b-4175-995d-ba51a5bf60ce",
   "metadata": {
    "tags": []
   },
   "outputs": [],
   "source": []
  },
  {
   "cell_type": "markdown",
   "id": "0146bde4-a30e-4ad5-9cb2-892183f2d23b",
   "metadata": {
    "tags": []
   },
   "source": [
    "##### task 5: which country watches the movies most"
   ]
  },
  {
   "cell_type": "code",
   "execution_count": 18,
   "id": "b5374b7b-1eb3-4ad5-b4b9-ad477d951667",
   "metadata": {
    "tags": []
   },
   "outputs": [],
   "source": [
    "\n",
    "netflix_movies_country=netflix_movies[['country']]"
   ]
  },
  {
   "cell_type": "code",
   "execution_count": null,
   "id": "4671482f-66e4-4c60-9367-05f2356d2dad",
   "metadata": {
    "tags": []
   },
   "outputs": [],
   "source": []
  },
  {
   "cell_type": "code",
   "execution_count": null,
   "id": "41808928-7bed-4763-8e2c-7823d00dc8a3",
   "metadata": {
    "tags": []
   },
   "outputs": [],
   "source": []
  },
  {
   "cell_type": "code",
   "execution_count": null,
   "id": "7e4f5d15-85a7-49ee-99ff-420795f88f78",
   "metadata": {},
   "outputs": [],
   "source": []
  },
  {
   "cell_type": "code",
   "execution_count": 19,
   "id": "c1a0fa59-7dfb-412c-bc62-ef4d7d9b4864",
   "metadata": {
    "tags": []
   },
   "outputs": [
    {
     "data": {
      "text/plain": [
       "[('United States', 2444),\n",
       " ('India', 932),\n",
       " ('United Kingdom', 461),\n",
       " ('Canada', 287),\n",
       " ('France', 285),\n",
       " ('Germany', 165),\n",
       " ('Spain', 152),\n",
       " ('Japan', 113),\n",
       " ('China', 107),\n",
       " ('Egypt', 99),\n",
       " ('Hong Kong', 98),\n",
       " ('Mexico', 97),\n",
       " ('Nigeria', 92),\n",
       " ('Indonesia', 84),\n",
       " ('Australia', 83),\n",
       " ('Turkey', 81),\n",
       " ('Philippines', 79),\n",
       " ('Belgium', 73),\n",
       " ('Argentina', 64),\n",
       " ('Italy', 60),\n",
       " ('Brazil', 56),\n",
       " ('South Korea', 56),\n",
       " ('South Africa', 47),\n",
       " ('Thailand', 43),\n",
       " ('Netherlands', 35),\n",
       " ('United Arab Emirates', 34),\n",
       " ('Poland', 30),\n",
       " ('Ireland', 29),\n",
       " ('Denmark', 25),\n",
       " ('Sweden', 25),\n",
       " ('Chile', 24),\n",
       " ('New Zealand', 22),\n",
       " ('Lebanon', 22),\n",
       " ('Norway', 19),\n",
       " ('Pakistan', 19),\n",
       " ('Switzerland', 18),\n",
       " ('Singapore', 18),\n",
       " ('Malaysia', 18),\n",
       " ('Taiwan', 18),\n",
       " ('Colombia', 17),\n",
       " ('Israel', 16),\n",
       " ('Czech Republic', 15),\n",
       " ('Romania', 13),\n",
       " ('Bulgaria', 10),\n",
       " ('Hungary', 10),\n",
       " ('Luxembourg', 10),\n",
       " ('Uruguay', 10),\n",
       " ('Saudi Arabia', 9),\n",
       " ('Qatar', 9),\n",
       " ('Austria', 9),\n",
       " ('Russia', 9),\n",
       " ('Iceland', 8),\n",
       " ('Peru', 8),\n",
       " ('Vietnam', 7),\n",
       " ('Serbia', 7),\n",
       " ('Greece', 6),\n",
       " ('Kenya', 6),\n",
       " ('Portugal', 6),\n",
       " ('Jordan', 6),\n",
       " ('Ghana', 5),\n",
       " ('Kuwait', 5),\n",
       " ('Cambodia', 5),\n",
       " ('Morocco', 5),\n",
       " ('Bangladesh', 4),\n",
       " ('Finland', 4),\n",
       " ('Iran', 4),\n",
       " ('Algeria', 3),\n",
       " ('Soviet Union', 3),\n",
       " ('Croatia', 3),\n",
       " ('Slovenia', 3),\n",
       " ('Venezuela', 2),\n",
       " ('Nepal', 2),\n",
       " ('Syria', 2),\n",
       " ('Cayman Islands', 2),\n",
       " ('Malta', 2),\n",
       " ('Guatemala', 2),\n",
       " ('West Germany', 2),\n",
       " ('Burkina Faso', 1),\n",
       " ('Ethiopia', 1),\n",
       " ('', 1),\n",
       " ('Mauritius', 1),\n",
       " ('Cameroon', 1),\n",
       " ('United Kingdom,', 1),\n",
       " ('Namibia', 1),\n",
       " ('Angola', 1),\n",
       " ('Mozambique', 1),\n",
       " ('Cambodia,', 1),\n",
       " ('Zimbabwe', 1),\n",
       " ('Senegal', 1),\n",
       " ('Malawi', 1),\n",
       " ('Paraguay', 1),\n",
       " ('Albania', 1),\n",
       " ('Georgia', 1),\n",
       " ('Slovakia', 1),\n",
       " ('Bermuda', 1),\n",
       " ('Ecuador', 1),\n",
       " ('Bahamas', 1),\n",
       " ('Sri Lanka', 1),\n",
       " ('Latvia', 1),\n",
       " ('Liechtenstein', 1),\n",
       " ('Nicaragua', 1),\n",
       " ('Poland,', 1),\n",
       " ('Dominican Republic', 1),\n",
       " ('Iraq', 1),\n",
       " ('Vatican City', 1),\n",
       " ('Jamaica', 1),\n",
       " ('Lithuania', 1),\n",
       " ('Afghanistan', 1),\n",
       " ('Somalia', 1),\n",
       " ('Sudan', 1),\n",
       " ('Panama', 1),\n",
       " ('East Germany', 1),\n",
       " ('Montenegro', 1)]"
      ]
     },
     "execution_count": 19,
     "metadata": {},
     "output_type": "execute_result"
    }
   ],
   "source": [
    "country_dict={}\n",
    "\n",
    "for k, v in netflix_movies_country.iterrows():\n",
    "    country_rows=v['country']\n",
    "    country_split=country_rows.split(\", \")\n",
    "    for name in country_split:\n",
    "        country_dict[name]=country_dict.get(name, 0)+1\n",
    "sort=sorted(country_dict.items(), key=lambda x:x[1], reverse=True)\n",
    "sort"
   ]
  },
  {
   "cell_type": "code",
   "execution_count": 20,
   "id": "59222ad1-68bd-44be-9155-514f0d3838a3",
   "metadata": {
    "tags": []
   },
   "outputs": [],
   "source": [
    "max_pair = max(country_dict.items(), key=lambda x: x[1])"
   ]
  },
  {
   "cell_type": "code",
   "execution_count": 21,
   "id": "b3abb3e9-7de8-4c71-8c1f-8e3d79bb0c17",
   "metadata": {
    "tags": []
   },
   "outputs": [],
   "source": [
    "key, value=max_pair"
   ]
  },
  {
   "cell_type": "code",
   "execution_count": 22,
   "id": "94d50dbf-364a-4279-b7b6-6f82a9807248",
   "metadata": {
    "tags": []
   },
   "outputs": [
    {
     "data": {
      "text/plain": [
       "('United States', 2444)"
      ]
     },
     "execution_count": 22,
     "metadata": {},
     "output_type": "execute_result"
    }
   ],
   "source": [
    "key, value"
   ]
  },
  {
   "cell_type": "markdown",
   "id": "cf75b038-3a85-4b43-9a84-491c85677c92",
   "metadata": {
    "tags": []
   },
   "source": [
    "##### task #6: which platform post high number of movies"
   ]
  },
  {
   "cell_type": "code",
   "execution_count": null,
   "id": "6179a7ff-e0f5-4101-b761-dc535f7b9017",
   "metadata": {
    "tags": []
   },
   "outputs": [],
   "source": []
  },
  {
   "cell_type": "code",
   "execution_count": 23,
   "id": "d7cd5855-82ff-4366-9bab-efad32572c2d",
   "metadata": {
    "tags": []
   },
   "outputs": [
    {
     "data": {
      "text/plain": [
       "(' International Movies', 2260)"
      ]
     },
     "execution_count": 23,
     "metadata": {},
     "output_type": "execute_result"
    }
   ],
   "source": [
    "post_dict={}\n",
    "for x, w in netflix_movies[['listed_in']].iterrows():\n",
    "        rows=w['listed_in']\n",
    "        splitted_rows=rows.split(\",\")\n",
    "        stripped_rows=[i.strip(\" \").lower()  for i in splitted_rows]\n",
    "        for x in splitted_rows:\n",
    "            post_dict[x]=post_dict.get(x, 0)+1\n",
    "sorted_post_dict=sorted(post_dict.items(), key=lambda x :x[1], reverse=True)\n",
    "sorted_post_dict_max=max(post_dict.items(), key=lambda x:x[1])\n",
    "sorted_post_dict_max\n",
    "\n",
    "\n",
    "####from the data international movies host the highest number of movies\n"
   ]
  },
  {
   "cell_type": "markdown",
   "id": "d961162e-6e55-4e12-8af5-c9f3146441af",
   "metadata": {
    "tags": []
   },
   "source": [
    "##### task:7 in which year movies were mostly added"
   ]
  },
  {
   "cell_type": "code",
   "execution_count": 24,
   "id": "04c9db9b-d0e6-4212-94a9-f1f05bc30588",
   "metadata": {
    "tags": []
   },
   "outputs": [
    {
     "name": "stderr",
     "output_type": "stream",
     "text": [
      "C:\\Users\\user\\AppData\\Local\\Temp\\ipykernel_12560\\332606549.py:1: SettingWithCopyWarning: \n",
      "A value is trying to be set on a copy of a slice from a DataFrame.\n",
      "Try using .loc[row_indexer,col_indexer] = value instead\n",
      "\n",
      "See the caveats in the documentation: https://pandas.pydata.org/pandas-docs/stable/user_guide/indexing.html#returning-a-view-versus-a-copy\n",
      "  netflix_movies['new_year']=pd.to_datetime(netflix_movies['date_added'])\n",
      "C:\\Users\\user\\AppData\\Local\\Temp\\ipykernel_12560\\332606549.py:2: SettingWithCopyWarning: \n",
      "A value is trying to be set on a copy of a slice from a DataFrame.\n",
      "Try using .loc[row_indexer,col_indexer] = value instead\n",
      "\n",
      "See the caveats in the documentation: https://pandas.pydata.org/pandas-docs/stable/user_guide/indexing.html#returning-a-view-versus-a-copy\n",
      "  netflix_movies['year']=netflix_movies['new_year'].dt.year\n"
     ]
    }
   ],
   "source": [
    "netflix_movies['new_year']=pd.to_datetime(netflix_movies['date_added'])\n",
    "netflix_movies['year']=netflix_movies['new_year'].dt.year\n",
    "netflix_movies_year=netflix_movies.groupby('year')['count'].sum().reset_index()[['year', 'count']]"
   ]
  },
  {
   "cell_type": "code",
   "execution_count": 25,
   "id": "16cf1d56-dcb1-4f1a-a241-9c0918471cbe",
   "metadata": {
    "tags": []
   },
   "outputs": [
    {
     "data": {
      "text/html": [
       "<div>\n",
       "<style scoped>\n",
       "    .dataframe tbody tr th:only-of-type {\n",
       "        vertical-align: middle;\n",
       "    }\n",
       "\n",
       "    .dataframe tbody tr th {\n",
       "        vertical-align: top;\n",
       "    }\n",
       "\n",
       "    .dataframe thead th {\n",
       "        text-align: right;\n",
       "    }\n",
       "</style>\n",
       "<table border=\"1\" class=\"dataframe\">\n",
       "  <thead>\n",
       "    <tr style=\"text-align: right;\">\n",
       "      <th></th>\n",
       "      <th>year</th>\n",
       "      <th>count</th>\n",
       "    </tr>\n",
       "  </thead>\n",
       "  <tbody>\n",
       "    <tr>\n",
       "      <th>11</th>\n",
       "      <td>2019</td>\n",
       "      <td>1236</td>\n",
       "    </tr>\n",
       "    <tr>\n",
       "      <th>12</th>\n",
       "      <td>2020</td>\n",
       "      <td>1151</td>\n",
       "    </tr>\n",
       "    <tr>\n",
       "      <th>10</th>\n",
       "      <td>2018</td>\n",
       "      <td>1085</td>\n",
       "    </tr>\n",
       "    <tr>\n",
       "      <th>13</th>\n",
       "      <td>2021</td>\n",
       "      <td>729</td>\n",
       "    </tr>\n",
       "    <tr>\n",
       "      <th>9</th>\n",
       "      <td>2017</td>\n",
       "      <td>702</td>\n",
       "    </tr>\n",
       "    <tr>\n",
       "      <th>8</th>\n",
       "      <td>2016</td>\n",
       "      <td>195</td>\n",
       "    </tr>\n",
       "    <tr>\n",
       "      <th>7</th>\n",
       "      <td>2015</td>\n",
       "      <td>47</td>\n",
       "    </tr>\n",
       "    <tr>\n",
       "      <th>6</th>\n",
       "      <td>2014</td>\n",
       "      <td>14</td>\n",
       "    </tr>\n",
       "    <tr>\n",
       "      <th>3</th>\n",
       "      <td>2011</td>\n",
       "      <td>13</td>\n",
       "    </tr>\n",
       "    <tr>\n",
       "      <th>5</th>\n",
       "      <td>2013</td>\n",
       "      <td>6</td>\n",
       "    </tr>\n",
       "    <tr>\n",
       "      <th>4</th>\n",
       "      <td>2012</td>\n",
       "      <td>3</td>\n",
       "    </tr>\n",
       "    <tr>\n",
       "      <th>1</th>\n",
       "      <td>2009</td>\n",
       "      <td>2</td>\n",
       "    </tr>\n",
       "    <tr>\n",
       "      <th>0</th>\n",
       "      <td>2008</td>\n",
       "      <td>1</td>\n",
       "    </tr>\n",
       "    <tr>\n",
       "      <th>2</th>\n",
       "      <td>2010</td>\n",
       "      <td>1</td>\n",
       "    </tr>\n",
       "  </tbody>\n",
       "</table>\n",
       "</div>"
      ],
      "text/plain": [
       "    year  count\n",
       "11  2019   1236\n",
       "12  2020   1151\n",
       "10  2018   1085\n",
       "13  2021    729\n",
       "9   2017    702\n",
       "8   2016    195\n",
       "7   2015     47\n",
       "6   2014     14\n",
       "3   2011     13\n",
       "5   2013      6\n",
       "4   2012      3\n",
       "1   2009      2\n",
       "0   2008      1\n",
       "2   2010      1"
      ]
     },
     "execution_count": 25,
     "metadata": {},
     "output_type": "execute_result"
    }
   ],
   "source": [
    "netflix_movies_year.sort_values('count', ascending=False)\n"
   ]
  },
  {
   "cell_type": "code",
   "execution_count": 26,
   "id": "99724b35-f1bc-4668-aa73-c92dd160d7f7",
   "metadata": {
    "tags": []
   },
   "outputs": [
    {
     "data": {
      "image/png": "[encoded data removed]",
      "text/plain": [
       "<Figure size 640x480 with 1 Axes>"
      ]
     },
     "metadata": {},
     "output_type": "display_data"
    }
   ],
   "source": [
    "netflix_movies_year.plot('year', 'count')\n",
    "plt.xlabel('year')\n",
    "plt.ylabel('count')\n",
    "plt.title('Trending', c='b')\n",
    "plt.grid()\n",
    "plt.show()"
   ]
  },
  {
   "cell_type": "code",
   "execution_count": 27,
   "id": "e41c7166-b2d9-43e9-b7e7-e85d30df4b1c",
   "metadata": {
    "tags": []
   },
   "outputs": [
    {
     "name": "stderr",
     "output_type": "stream",
     "text": [
      "C:\\Users\\user\\AppData\\Local\\Temp\\ipykernel_12560\\1384777820.py:1: SettingWithCopyWarning: \n",
      "A value is trying to be set on a copy of a slice from a DataFrame.\n",
      "Try using .loc[row_indexer,col_indexer] = value instead\n",
      "\n",
      "See the caveats in the documentation: https://pandas.pydata.org/pandas-docs/stable/user_guide/indexing.html#returning-a-view-versus-a-copy\n",
      "  netflix_movies['month']=netflix_movies['new_year'].dt.month\n"
     ]
    }
   ],
   "source": [
    "netflix_movies['month']=netflix_movies['new_year'].dt.month\n",
    "netflix_movies_month=netflix_movies.groupby('month')['count'].sum().reset_index()[['month', 'count']]"
   ]
  },
  {
   "cell_type": "code",
   "execution_count": 28,
   "id": "87d60c10-65ba-4c91-98cb-98b9f013a835",
   "metadata": {
    "tags": []
   },
   "outputs": [
    {
     "data": {
      "text/html": [
       "<div>\n",
       "<style scoped>\n",
       "    .dataframe tbody tr th:only-of-type {\n",
       "        vertical-align: middle;\n",
       "    }\n",
       "\n",
       "    .dataframe tbody tr th {\n",
       "        vertical-align: top;\n",
       "    }\n",
       "\n",
       "    .dataframe thead th {\n",
       "        text-align: right;\n",
       "    }\n",
       "</style>\n",
       "<table border=\"1\" class=\"dataframe\">\n",
       "  <thead>\n",
       "    <tr style=\"text-align: right;\">\n",
       "      <th></th>\n",
       "      <th>month</th>\n",
       "      <th>count</th>\n",
       "    </tr>\n",
       "  </thead>\n",
       "  <tbody>\n",
       "    <tr>\n",
       "      <th>0</th>\n",
       "      <td>1</td>\n",
       "      <td>478</td>\n",
       "    </tr>\n",
       "    <tr>\n",
       "      <th>1</th>\n",
       "      <td>2</td>\n",
       "      <td>327</td>\n",
       "    </tr>\n",
       "    <tr>\n",
       "      <th>2</th>\n",
       "      <td>3</td>\n",
       "      <td>454</td>\n",
       "    </tr>\n",
       "    <tr>\n",
       "      <th>3</th>\n",
       "      <td>4</td>\n",
       "      <td>460</td>\n",
       "    </tr>\n",
       "    <tr>\n",
       "      <th>4</th>\n",
       "      <td>5</td>\n",
       "      <td>357</td>\n",
       "    </tr>\n",
       "    <tr>\n",
       "      <th>5</th>\n",
       "      <td>6</td>\n",
       "      <td>403</td>\n",
       "    </tr>\n",
       "    <tr>\n",
       "      <th>6</th>\n",
       "      <td>7</td>\n",
       "      <td>451</td>\n",
       "    </tr>\n",
       "    <tr>\n",
       "      <th>7</th>\n",
       "      <td>8</td>\n",
       "      <td>434</td>\n",
       "    </tr>\n",
       "    <tr>\n",
       "      <th>8</th>\n",
       "      <td>9</td>\n",
       "      <td>416</td>\n",
       "    </tr>\n",
       "    <tr>\n",
       "      <th>9</th>\n",
       "      <td>10</td>\n",
       "      <td>480</td>\n",
       "    </tr>\n",
       "    <tr>\n",
       "      <th>10</th>\n",
       "      <td>11</td>\n",
       "      <td>452</td>\n",
       "    </tr>\n",
       "    <tr>\n",
       "      <th>11</th>\n",
       "      <td>12</td>\n",
       "      <td>473</td>\n",
       "    </tr>\n",
       "  </tbody>\n",
       "</table>\n",
       "</div>"
      ],
      "text/plain": [
       "    month  count\n",
       "0       1    478\n",
       "1       2    327\n",
       "2       3    454\n",
       "3       4    460\n",
       "4       5    357\n",
       "5       6    403\n",
       "6       7    451\n",
       "7       8    434\n",
       "8       9    416\n",
       "9      10    480\n",
       "10     11    452\n",
       "11     12    473"
      ]
     },
     "execution_count": 28,
     "metadata": {},
     "output_type": "execute_result"
    }
   ],
   "source": [
    "netflix_movies_month.sort_values('month')"
   ]
  },
  {
   "cell_type": "code",
   "execution_count": 29,
   "id": "3dfd1876-d082-4b72-8a13-9e1b1cacb469",
   "metadata": {
    "tags": []
   },
   "outputs": [
    {
     "data": {
      "image/png": "[encoded data removed]",
      "text/plain": [
       "<Figure size 640x480 with 1 Axes>"
      ]
     },
     "metadata": {},
     "output_type": "display_data"
    }
   ],
   "source": [
    "plt.bar(netflix_movies_month['month'],netflix_movies_month['count'] )\n",
    "plt.xlabel('month')\n",
    "plt.ylabel('count')\n",
    "plt.title('Trending', c='b')\n",
    "plt.show()"
   ]
  },
  {
   "cell_type": "code",
   "execution_count": 30,
   "id": "e0b3451e-58f6-4cef-9c6a-fbb35f3ed6e5",
   "metadata": {
    "tags": []
   },
   "outputs": [],
   "source": [
    "import tensorflow as tf\n",
    "from tensorflow.keras import layers\n",
    "from imblearn.over_sampling import RandomOverSampler"
   ]
  },
  {
   "cell_type": "code",
   "execution_count": 46,
   "id": "331430d4-7a8a-441e-9ae2-fff8f5438ef5",
   "metadata": {
    "tags": []
   },
   "outputs": [],
   "source": [
    "movies_tv_shows={'Movie':1,'TV Show':0 }\n",
    "netflix_dataset[\"type\"]=netflix_dataset[\"type\"].map(movies_tv_shows)"
   ]
  },
  {
   "cell_type": "code",
   "execution_count": 32,
   "id": "897b6e3d-c4a6-4de5-b74f-215fd9530133",
   "metadata": {
    "tags": []
   },
   "outputs": [],
   "source": [
    "####spliting the netflix_dataset"
   ]
  },
  {
   "cell_type": "code",
   "execution_count": null,
   "id": "1610d699-db76-4665-936b-05bc198f132a",
   "metadata": {
    "tags": []
   },
   "outputs": [],
   "source": []
  },
  {
   "cell_type": "code",
   "execution_count": null,
   "id": "0d26dc68-92b2-40d2-ad04-4cd9c206d424",
   "metadata": {
    "tags": []
   },
   "outputs": [],
   "source": []
  },
  {
   "cell_type": "code",
   "execution_count": 47,
   "id": "d23a10bc-0de4-4cfe-8ad0-f25b5eaca135",
   "metadata": {
    "tags": []
   },
   "outputs": [],
   "source": [
    "train, valid , test=np.split(netflix_dataset.sample (frac=1), [int(0.6*len(netflix_dataset)), int(0.6*len(netflix_dataset))])"
   ]
  },
  {
   "cell_type": "code",
   "execution_count": 48,
   "id": "b3a7b767-23fa-470d-8a0e-760783a95754",
   "metadata": {
    "tags": []
   },
   "outputs": [],
   "source": [
    "\n",
    "def df_to_dataset(dataframe, shuffle=True, batch_size=32):\n",
    "    df = dataframe.copy()\n",
    "    labels = df.pop('type')\n",
    "    df = {key: value[:,tf.newaxis] for key, value in dataframe.items()}\n",
    "    ds = tf.data.Dataset.from_tensor_slices((dict(df), labels))\n",
    "    if shuffle:\n",
    "        ds = ds.shuffle(buffer_size=len(dataframe))\n",
    "        ds = ds.batch(batch_size)\n",
    "        ds=ds.prefetch(batch_size)\n",
    "        return ds\n",
    "    "
   ]
  },
  {
   "cell_type": "code",
   "execution_count": 35,
   "id": "8a5b533d-c143-45b6-8f33-ca83b6187ffb",
   "metadata": {
    "tags": []
   },
   "outputs": [
    {
     "name": "stderr",
     "output_type": "stream",
     "text": [
      "C:\\Users\\user\\AppData\\Local\\Temp\\ipykernel_12560\\3757225836.py:4: FutureWarning: Support for multi-dimensional indexing (e.g. `obj[:, None]`) is deprecated and will be removed in a future version.  Convert to a numpy array before indexing instead.\n",
      "  df = {key: value[:,tf.newaxis] for key, value in dataframe.items()}\n"
     ]
    }
   ],
   "source": [
    "\n",
    "df_model =df_to_dataset(train, shuffle=True )"
   ]
  },
  {
   "cell_type": "code",
   "execution_count": 36,
   "id": "1e314d0b-e34c-475a-b70e-d469f7bbf38b",
   "metadata": {
    "tags": []
   },
   "outputs": [
    {
     "name": "stdout",
     "output_type": "stream",
     "text": [
      "Every feature: ['show_id', 'type', 'title', 'director', 'cast', 'country', 'date_added', 'release_year', 'rating', 'duration', 'listed_in', 'description']\n",
      "A batch of ages: [b'77 min' b'97 min' b'1 Season' b'97 min' b'71 min' b'119 min' b'102 min'\n",
      " b'96 min' b'97 min' b'101 min' b'1 Season' b'91 min' b'62 min' b'102 min'\n",
      " b'115 min' b'137 min' b'149 min' b'112 min' b'149 min' b'86 min'\n",
      " b'124 min' b'115 min' b'83 min' b'107 min' b'113 min' b'75 min' b'68 min'\n",
      " b'154 min' b'113 min' b'138 min' b'106 min' b'70 min']\n",
      "A batch of targets: tf.Tensor([1 1 0 1 1 1 1 1 1 1 0 1 1 1 1 1 1 1 1 1 1 1 1 1 1 1 1 1 1 1 1 1], shape=(32,), dtype=int64)\n"
     ]
    }
   ],
   "source": [
    "[(train_features, label_batch)] = df_model.take(1)\n",
    "print('Every feature:', list(train_features.keys()))\n",
    "print('A batch of ages:', np.reshape(train_features['duration'], (-1)))\n",
    "print('A batch of targets:', label_batch )"
   ]
  },
  {
   "cell_type": "code",
   "execution_count": 37,
   "id": "1c70bb9f-ac4e-4640-a1ab-179bb501088b",
   "metadata": {
    "tags": []
   },
   "outputs": [],
   "source": [
    "def get_normalization_layer(name, dataset):\n",
    "    normalizer = layers.Normalization(axis=None)\n",
    "    feature_ds = dataset.map(lambda x, y: x[name])\n",
    "    normalizer.adapt(feature_ds)\n",
    "    return normalizer"
   ]
  },
  {
   "cell_type": "code",
   "execution_count": 38,
   "id": "a57cc075-933d-4e3a-8f67-3cab92cd6646",
   "metadata": {
    "tags": []
   },
   "outputs": [
    {
     "data": {
      "text/plain": [
       "<tf.Tensor: shape=(1, 3199), dtype=float32, numpy=\n",
       "array([[0.17399324, 0.17399324, 0.17399324, ..., 0.17399324, 0.17399324,\n",
       "        0.17399324]], dtype=float32)>"
      ]
     },
     "execution_count": 38,
     "metadata": {},
     "output_type": "execute_result"
    }
   ],
   "source": [
    "normalizer_layer=train['type']\n",
    "layer =get_normalization_layer('type', df_model)\n",
    "layer(normalizer_layer)\n",
    "\n"
   ]
  },
  {
   "cell_type": "code",
   "execution_count": 39,
   "id": "09c48fce-d642-4516-9342-f9ff17e14b85",
   "metadata": {
    "tags": []
   },
   "outputs": [],
   "source": [
    "def get_category_encoding_layer(name, dataset, dtype, max_tokens=None):\n",
    "    if dtype == 'string':\n",
    "        index = layers.StringLookup(max_tokens=max_tokens)\n",
    "    else:\n",
    "        index = layers.IntegerLookup(max_tokens=max_tokens)\n",
    "\n",
    "    feature_ds = dataset.map(lambda x, y: x[name])\n",
    "\n",
    "    index.adapt(feature_ds)\n",
    "    encoder = layers.CategoryEncoding(num_tokens=index.vocabulary_size())\n",
    "\n",
    "    return lambda feature: encoder(index(feature))\n"
   ]
  },
  {
   "cell_type": "code",
   "execution_count": 40,
   "id": "e45a2811-ea54-4e4f-861e-d38e76028d93",
   "metadata": {
    "tags": []
   },
   "outputs": [
    {
     "data": {
      "text/plain": [
       "<tf.Tensor: shape=(182,), dtype=float32, numpy=\n",
       "array([0., 1., 1., 1., 1., 1., 1., 1., 1., 1., 1., 1., 1., 1., 1., 1., 1.,\n",
       "       1., 1., 1., 1., 1., 1., 1., 1., 1., 1., 1., 1., 1., 1., 1., 1., 1.,\n",
       "       1., 1., 1., 1., 1., 1., 1., 1., 1., 1., 1., 1., 1., 1., 1., 1., 1.,\n",
       "       1., 1., 1., 1., 1., 1., 1., 1., 1., 1., 1., 1., 1., 1., 1., 1., 1.,\n",
       "       1., 1., 1., 1., 1., 1., 1., 1., 1., 1., 1., 1., 1., 1., 1., 1., 1.,\n",
       "       1., 1., 1., 1., 1., 1., 1., 1., 1., 1., 1., 1., 1., 1., 1., 1., 1.,\n",
       "       1., 1., 1., 1., 1., 1., 1., 1., 1., 1., 1., 1., 1., 1., 1., 1., 1.,\n",
       "       1., 1., 1., 1., 1., 1., 1., 1., 1., 1., 1., 1., 1., 1., 1., 1., 1.,\n",
       "       1., 1., 1., 1., 1., 1., 1., 1., 1., 1., 1., 1., 1., 1., 1., 1., 1.,\n",
       "       1., 1., 1., 1., 1., 1., 1., 1., 1., 1., 1., 1., 1., 1., 1., 1., 1.,\n",
       "       1., 1., 1., 1., 1., 1., 1., 1., 1., 1., 1., 1.], dtype=float32)>"
      ]
     },
     "execution_count": 40,
     "metadata": {},
     "output_type": "execute_result"
    }
   ],
   "source": [
    "test_category=train['duration']\n",
    "test_layer =get_category_encoding_layer(name='duration',\n",
    "                                              dataset=df_model,\n",
    "                                              dtype='string')\n",
    "test_layer(test_category)"
   ]
  },
  {
   "cell_type": "code",
   "execution_count": null,
   "id": "5dbdff2f-47a6-4d7a-b346-3eea7aeb1dd7",
   "metadata": {
    "tags": []
   },
   "outputs": [],
   "source": []
  },
  {
   "cell_type": "code",
   "execution_count": null,
   "id": "da979ab4-612d-4bcd-b107-fde5642b2d2e",
   "metadata": {},
   "outputs": [],
   "source": [
    "\n",
    "\n"
   ]
  },
  {
   "cell_type": "code",
   "execution_count": 41,
   "id": "f7c83913-6516-4149-89a3-e02312899f37",
   "metadata": {},
   "outputs": [
    {
     "data": {
      "text/plain": [
       "Index(['show_id', 'type', 'title', 'director', 'cast', 'country', 'date_added',\n",
       "       'release_year', 'rating', 'duration', 'listed_in', 'description'],\n",
       "      dtype='object')"
      ]
     },
     "execution_count": 41,
     "metadata": {},
     "output_type": "execute_result"
    }
   ],
   "source": [
    "netflix_dataset.columns"
   ]
  },
  {
   "cell_type": "code",
   "execution_count": 49,
   "id": "01364ccf-545f-4360-a7a1-c2a323fb3029",
   "metadata": {},
   "outputs": [
    {
     "name": "stderr",
     "output_type": "stream",
     "text": [
      "C:\\Users\\user\\AppData\\Local\\Temp\\ipykernel_12560\\3757225836.py:4: FutureWarning: Support for multi-dimensional indexing (e.g. `obj[:, None]`) is deprecated and will be removed in a future version.  Convert to a numpy array before indexing instead.\n",
      "  df = {key: value[:,tf.newaxis] for key, value in dataframe.items()}\n",
      "C:\\Users\\user\\AppData\\Local\\Temp\\ipykernel_12560\\3757225836.py:4: FutureWarning: Support for multi-dimensional indexing (e.g. `obj[:, None]`) is deprecated and will be removed in a future version.  Convert to a numpy array before indexing instead.\n",
      "  df = {key: value[:,tf.newaxis] for key, value in dataframe.items()}\n"
     ]
    }
   ],
   "source": [
    "batch_size=256\n",
    "train =df_to_dataset(train, batch_size=batch_size)\n",
    "valid =df_to_dataset(valid, batch_size=batch_size, shuffle=False)\n",
    "test =df_to_dataset(test, batch_size=batch_size, shuffle=False)"
   ]
  },
  {
   "cell_type": "code",
   "execution_count": 100,
   "id": "3d88f4be-81ca-4c43-8411-bbb88cc3b55b",
   "metadata": {},
   "outputs": [],
   "source": [
    "all_inputs = []\n",
    "encoded_features = []\n",
    "\n",
    "# Numerical features.\n",
    "for header in ['type', 'release_year']:\n",
    "    numeric_col = tf.keras.Input(shape=(1,), name=header)\n",
    "    normalization_layer = get_normalization_layer(header, df_model)\n",
    "    encoded_numeric_col = normalization_layer(numeric_col)\n",
    "    all_inputs.append(numeric_col)\n",
    "    encoded_features.append(encoded_numeric_col)"
   ]
  },
  {
   "cell_type": "code",
   "execution_count": 102,
   "id": "533f8f80-e97c-47a8-b48c-dbb9d97a0153",
   "metadata": {
    "tags": []
   },
   "outputs": [],
   "source": [
    "for header in netflix_dataset.columns.drop(['type','release_year']):\n",
    "    categorical_col = tf.keras.Input(shape=(1,), name=header, dtype='string')\n",
    "    encoding_layer = get_category_encoding_layer(name=header,\n",
    "                                               dataset=df_model,\n",
    "                                               dtype='string',\n",
    "                                               max_tokens=5)\n",
    "    encoded_categorical_col = encoding_layer(categorical_col)\n",
    "    all_inputs.append(categorical_col)\n",
    "    encoded_features.append(encoded_categorical_col)"
   ]
  },
  {
   "cell_type": "code",
   "execution_count": 104,
   "id": "430765f0-972a-440e-a041-75d326507fd2",
   "metadata": {
    "tags": []
   },
   "outputs": [],
   "source": [
    "all_features = tf.keras.layers.concatenate(encoded_features)\n",
    "x = tf.keras.layers.Dense(32, activation=\"relu\")(all_features)\n",
    "x = tf.keras.layers.Dropout(0.5)(x)\n",
    "output = tf.keras.layers.Dense(1)(x)\n",
    "\n",
    "model = tf.keras.Model(all_inputs, output)\n",
    "\n"
   ]
  },
  {
   "cell_type": "code",
   "execution_count": 105,
   "id": "54943e70-2dec-4481-a186-ac16f533f359",
   "metadata": {
    "tags": []
   },
   "outputs": [],
   "source": [
    "model.compile(optimizer='adam',\n",
    "              loss=tf.keras.losses.BinaryCrossentropy(from_logits=True),\n",
    "              metrics=[\"accuracy\"])"
   ]
  },
  {
   "cell_type": "code",
   "execution_count": 117,
   "id": "63553c61-dbd3-4816-83d1-055befc7a37c",
   "metadata": {
    "tags": []
   },
   "outputs": [
    {
     "name": "stdout",
     "output_type": "stream",
     "text": [
      "Epoch 1/10\n",
      "100/100 [==============================] - 3s 6ms/step - loss: nan - accuracy: 0.0294\n",
      "Epoch 2/10\n",
      "100/100 [==============================] - 1s 6ms/step - loss: nan - accuracy: 0.0294\n",
      "Epoch 3/10\n",
      "100/100 [==============================] - 1s 6ms/step - loss: nan - accuracy: 0.0294\n",
      "Epoch 4/10\n",
      "100/100 [==============================] - 1s 6ms/step - loss: nan - accuracy: 0.0294\n",
      "Epoch 5/10\n",
      "100/100 [==============================] - 1s 6ms/step - loss: nan - accuracy: 0.0294\n",
      "Epoch 6/10\n",
      "100/100 [==============================] - 1s 7ms/step - loss: nan - accuracy: 0.0294\n",
      "Epoch 7/10\n",
      "100/100 [==============================] - 1s 6ms/step - loss: nan - accuracy: 0.0294\n",
      "Epoch 8/10\n",
      "100/100 [==============================] - 1s 7ms/step - loss: nan - accuracy: 0.0294\n",
      "Epoch 9/10\n",
      "100/100 [==============================] - 1s 6ms/step - loss: nan - accuracy: 0.0294\n",
      "Epoch 10/10\n",
      "100/100 [==============================] - 1s 6ms/step - loss: nan - accuracy: 0.0294\n"
     ]
    },
    {
     "data": {
      "text/plain": [
       "<keras.callbacks.History at 0x1959eb79ae0>"
      ]
     },
     "execution_count": 117,
     "metadata": {},
     "output_type": "execute_result"
    }
   ],
   "source": [
    "model.fit(df_model, epochs=10)"
   ]
  },
  {
   "cell_type": "code",
   "execution_count": 120,
   "id": "75a44d66-5eb6-4cad-ab68-cf462208b242",
   "metadata": {
    "tags": []
   },
   "outputs": [
    {
     "name": "stdout",
     "output_type": "stream",
     "text": [
      "100/100 [==============================] - 1s 4ms/step - loss: nan - accuracy: 0.0294\n",
      "Accuracy 0.029384182766079903\n"
     ]
    }
   ],
   "source": [
    "loss, accuracy = model.evaluate(df_model)\n",
    "print(\"Accuracy\", accuracy)"
   ]
  },
  {
   "cell_type": "code",
   "execution_count": null,
   "id": "4848c474-1b15-4eb4-9abe-59913f7b2dbe",
   "metadata": {},
   "outputs": [],
   "source": []
  },
  {
   "cell_type": "code",
   "execution_count": null,
   "id": "e5350a09-47f9-48a3-8d1d-b498430cbe2b",
   "metadata": {},
   "outputs": [],
   "source": []
  },
  {
   "cell_type": "code",
   "execution_count": null,
   "id": "20c5ebd3-7149-4391-89df-6dcc8da1415c",
   "metadata": {},
   "outputs": [],
   "source": []
  },
  {
   "cell_type": "code",
   "execution_count": null,
   "id": "0d79b897-71e9-491e-9cf1-d4d3c8fb07e2",
   "metadata": {},
   "outputs": [],
   "source": []
  },
  {
   "cell_type": "code",
   "execution_count": null,
   "id": "e14b146f-1199-4a6e-bbba-7611f20e9f18",
   "metadata": {},
   "outputs": [],
   "source": []
  },
  {
   "cell_type": "code",
   "execution_count": null,
   "id": "a1d7d8c4-63fd-47b2-b1c9-5e5cadf98b6a",
   "metadata": {},
   "outputs": [],
   "source": []
  }
 ],
 "metadata": {
  "kernelspec": {
   "display_name": "Python 3 (ipykernel)",
   "language": "python",
   "name": "python3"
  },
  "language_info": {
   "codemirror_mode": {
    "name": "ipython",
    "version": 3
   },
   "file_extension": ".py",
   "mimetype": "text/x-python",
   "name": "python",
   "nbconvert_exporter": "python",
   "pygments_lexer": "ipython3",
   "version": "3.10.12"
  }
 },
 "nbformat": 4,
 "nbformat_minor": 5
}
